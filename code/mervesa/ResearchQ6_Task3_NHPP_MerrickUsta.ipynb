{
 "cells": [
  {
   "cell_type": "code",
   "execution_count": 1,
   "id": "7711715c",
   "metadata": {},
   "outputs": [],
   "source": [
    "#Use gdown to download the NHPD data\n",
    "#!pip install gdown"
   ]
  },
  {
   "cell_type": "code",
   "execution_count": 2,
   "id": "59a7f4af",
   "metadata": {},
   "outputs": [
    {
     "name": "stderr",
     "output_type": "stream",
     "text": [
      "Downloading...\n",
      "From: https://drive.google.com/u/0/uc?id=19EMDNi6AT4pecx_iWltZv0GxLYqv4Eof&export=download\n",
      "To: /Users/m0u00pf/sep21-housing-insecurity/code/mervesa/data/active_and_inconclusive_communities.xlsx\n",
      "44.4MB [00:02, 21.2MB/s]\n"
     ]
    },
    {
     "data": {
      "text/plain": [
       "'./data/active_and_inconclusive_communities.xlsx'"
      ]
     },
     "execution_count": 2,
     "metadata": {},
     "output_type": "execute_result"
    }
   ],
   "source": [
    "#Download the NHPD data into the ./data/ folder\n",
    "import gdown\n",
    "import os\n",
    "\n",
    "url = 'https://drive.google.com/u/0/uc?id=19EMDNi6AT4pecx_iWltZv0GxLYqv4Eof&export=download'\n",
    "output = './data/active_and_inconclusive_communities.xlsx'\n",
    "gdown.download(url, output, quiet=False)\n"
   ]
  },
  {
   "cell_type": "code",
   "execution_count": null,
   "id": "9db85763",
   "metadata": {},
   "outputs": [],
   "source": [
    "#Read the downloaded file\n",
    "import pandas as pd\n",
    "nhpd_data=pd.read_excel('./data/active_and_inconclusive_communities.xlsx')"
   ]
  },
  {
   "cell_type": "code",
   "execution_count": null,
   "id": "6421a09b",
   "metadata": {},
   "outputs": [],
   "source": [
    "nhpd_data.head()"
   ]
  },
  {
   "cell_type": "code",
   "execution_count": null,
   "id": "68098f0c",
   "metadata": {},
   "outputs": [],
   "source": []
  }
 ],
 "metadata": {
  "kernelspec": {
   "display_name": "Python 3",
   "language": "python",
   "name": "python3"
  },
  "language_info": {
   "codemirror_mode": {
    "name": "ipython",
    "version": 3
   },
   "file_extension": ".py",
   "mimetype": "text/x-python",
   "name": "python",
   "nbconvert_exporter": "python",
   "pygments_lexer": "ipython3",
   "version": "3.8.8"
  }
 },
 "nbformat": 4,
 "nbformat_minor": 5
}
